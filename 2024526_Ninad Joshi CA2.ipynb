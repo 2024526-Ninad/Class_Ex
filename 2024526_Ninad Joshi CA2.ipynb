{
 "cells": [
  {
   "cell_type": "markdown",
   "id": "1701040c-ec26-4353-b726-85b9ccbc0ee3",
   "metadata": {},
   "source": [
    "## CA2 - Analyzing trends in Ireland's dairy exports and compararing them with major EU competitors"
   ]
  },
  {
   "cell_type": "code",
   "execution_count": 2,
   "id": "4453be4e-8159-42f8-9067-f332f3b104a9",
   "metadata": {},
   "outputs": [],
   "source": [
    "# Importing revelant libraries for the analysis "
   ]
  },
  {
   "cell_type": "code",
   "execution_count": 3,
   "id": "6f9b42b5-4fea-4d4e-bc28-79630a8a628f",
   "metadata": {},
   "outputs": [],
   "source": [
    "import pandas as pd\n",
    "import numpy as np\n",
    "import matplotlib.pyplot as plt\n",
    "import seaborn as sns\n",
    "from scipy.stats import ttest_ind, f_oneway\n",
    "from statsmodels.tsa.arima.model import ARIMA\n",
    "from sklearn.cluster import KMeans"
   ]
  },
  {
   "cell_type": "code",
   "execution_count": 4,
   "id": "8a81af64-5b7b-4f51-b090-be436419b0eb",
   "metadata": {},
   "outputs": [],
   "source": [
    "# Exploratory Data analysis of the chosen dataset"
   ]
  },
  {
   "cell_type": "code",
   "execution_count": 5,
   "id": "a8aa3212-f026-459e-8cd7-a7954fbf5227",
   "metadata": {},
   "outputs": [],
   "source": [
    "df = pd.read_csv(\"Dairy Export.csv\")"
   ]
  },
  {
   "cell_type": "code",
   "execution_count": 6,
   "id": "3432cf14-1f1d-410e-9761-badbf48cd717",
   "metadata": {},
   "outputs": [
    {
     "data": {
      "text/plain": [
       "(4895, 14)"
      ]
     },
     "execution_count": 6,
     "metadata": {},
     "output_type": "execute_result"
    }
   ],
   "source": [
    "df.shape"
   ]
  },
  {
   "cell_type": "code",
   "execution_count": 7,
   "id": "eb4d8573-4d43-4971-be95-fdbd202f8b69",
   "metadata": {},
   "outputs": [
    {
     "data": {
      "text/html": [
       "<div>\n",
       "<style scoped>\n",
       "    .dataframe tbody tr th:only-of-type {\n",
       "        vertical-align: middle;\n",
       "    }\n",
       "\n",
       "    .dataframe tbody tr th {\n",
       "        vertical-align: top;\n",
       "    }\n",
       "\n",
       "    .dataframe thead th {\n",
       "        text-align: right;\n",
       "    }\n",
       "</style>\n",
       "<table border=\"1\" class=\"dataframe\">\n",
       "  <thead>\n",
       "    <tr style=\"text-align: right;\">\n",
       "      <th></th>\n",
       "      <th>Domain Code</th>\n",
       "      <th>Domain</th>\n",
       "      <th>Area Code (M49)</th>\n",
       "      <th>Area</th>\n",
       "      <th>Element Code</th>\n",
       "      <th>Element</th>\n",
       "      <th>Item Code (CPC)</th>\n",
       "      <th>Item</th>\n",
       "      <th>Year Code</th>\n",
       "      <th>Year</th>\n",
       "      <th>Unit</th>\n",
       "      <th>Value</th>\n",
       "      <th>Flag</th>\n",
       "      <th>Flag Description</th>\n",
       "    </tr>\n",
       "  </thead>\n",
       "  <tbody>\n",
       "    <tr>\n",
       "      <th>0</th>\n",
       "      <td>TI</td>\n",
       "      <td>Trade Indices</td>\n",
       "      <td>56</td>\n",
       "      <td>Belgium</td>\n",
       "      <td>94</td>\n",
       "      <td>Export Value Base Quantity</td>\n",
       "      <td>22241.01</td>\n",
       "      <td>Butter of cow milk</td>\n",
       "      <td>2012</td>\n",
       "      <td>2012</td>\n",
       "      <td>1000 USD</td>\n",
       "      <td>466034</td>\n",
       "      <td>E</td>\n",
       "      <td>Estimated value</td>\n",
       "    </tr>\n",
       "    <tr>\n",
       "      <th>1</th>\n",
       "      <td>TI</td>\n",
       "      <td>Trade Indices</td>\n",
       "      <td>56</td>\n",
       "      <td>Belgium</td>\n",
       "      <td>94</td>\n",
       "      <td>Export Value Base Quantity</td>\n",
       "      <td>22241.01</td>\n",
       "      <td>Butter of cow milk</td>\n",
       "      <td>2013</td>\n",
       "      <td>2013</td>\n",
       "      <td>1000 USD</td>\n",
       "      <td>557014</td>\n",
       "      <td>E</td>\n",
       "      <td>Estimated value</td>\n",
       "    </tr>\n",
       "    <tr>\n",
       "      <th>2</th>\n",
       "      <td>TI</td>\n",
       "      <td>Trade Indices</td>\n",
       "      <td>56</td>\n",
       "      <td>Belgium</td>\n",
       "      <td>94</td>\n",
       "      <td>Export Value Base Quantity</td>\n",
       "      <td>22241.01</td>\n",
       "      <td>Butter of cow milk</td>\n",
       "      <td>2014</td>\n",
       "      <td>2014</td>\n",
       "      <td>1000 USD</td>\n",
       "      <td>542433</td>\n",
       "      <td>E</td>\n",
       "      <td>Estimated value</td>\n",
       "    </tr>\n",
       "    <tr>\n",
       "      <th>3</th>\n",
       "      <td>TI</td>\n",
       "      <td>Trade Indices</td>\n",
       "      <td>56</td>\n",
       "      <td>Belgium</td>\n",
       "      <td>94</td>\n",
       "      <td>Export Value Base Quantity</td>\n",
       "      <td>22241.01</td>\n",
       "      <td>Butter of cow milk</td>\n",
       "      <td>2015</td>\n",
       "      <td>2015</td>\n",
       "      <td>1000 USD</td>\n",
       "      <td>402557</td>\n",
       "      <td>E</td>\n",
       "      <td>Estimated value</td>\n",
       "    </tr>\n",
       "    <tr>\n",
       "      <th>4</th>\n",
       "      <td>TI</td>\n",
       "      <td>Trade Indices</td>\n",
       "      <td>56</td>\n",
       "      <td>Belgium</td>\n",
       "      <td>94</td>\n",
       "      <td>Export Value Base Quantity</td>\n",
       "      <td>22241.01</td>\n",
       "      <td>Butter of cow milk</td>\n",
       "      <td>2016</td>\n",
       "      <td>2016</td>\n",
       "      <td>1000 USD</td>\n",
       "      <td>400687</td>\n",
       "      <td>E</td>\n",
       "      <td>Estimated value</td>\n",
       "    </tr>\n",
       "  </tbody>\n",
       "</table>\n",
       "</div>"
      ],
      "text/plain": [
       "  Domain Code         Domain  Area Code (M49)     Area  Element Code  \\\n",
       "0          TI  Trade Indices               56  Belgium            94   \n",
       "1          TI  Trade Indices               56  Belgium            94   \n",
       "2          TI  Trade Indices               56  Belgium            94   \n",
       "3          TI  Trade Indices               56  Belgium            94   \n",
       "4          TI  Trade Indices               56  Belgium            94   \n",
       "\n",
       "                      Element  Item Code (CPC)                Item  Year Code  \\\n",
       "0  Export Value Base Quantity         22241.01  Butter of cow milk       2012   \n",
       "1  Export Value Base Quantity         22241.01  Butter of cow milk       2013   \n",
       "2  Export Value Base Quantity         22241.01  Butter of cow milk       2014   \n",
       "3  Export Value Base Quantity         22241.01  Butter of cow milk       2015   \n",
       "4  Export Value Base Quantity         22241.01  Butter of cow milk       2016   \n",
       "\n",
       "   Year      Unit   Value Flag Flag Description  \n",
       "0  2012  1000 USD  466034    E  Estimated value  \n",
       "1  2013  1000 USD  557014    E  Estimated value  \n",
       "2  2014  1000 USD  542433    E  Estimated value  \n",
       "3  2015  1000 USD  402557    E  Estimated value  \n",
       "4  2016  1000 USD  400687    E  Estimated value  "
      ]
     },
     "execution_count": 7,
     "metadata": {},
     "output_type": "execute_result"
    }
   ],
   "source": [
    "df.head()"
   ]
  },
  {
   "cell_type": "code",
   "execution_count": 8,
   "id": "2c2d74d1-5697-4bb1-b8b6-824fc893f374",
   "metadata": {},
   "outputs": [
    {
     "name": "stdout",
     "output_type": "stream",
     "text": [
      "<class 'pandas.core.frame.DataFrame'>\n",
      "RangeIndex: 4895 entries, 0 to 4894\n",
      "Data columns (total 14 columns):\n",
      " #   Column            Non-Null Count  Dtype  \n",
      "---  ------            --------------  -----  \n",
      " 0   Domain Code       4895 non-null   object \n",
      " 1   Domain            4895 non-null   object \n",
      " 2   Area Code (M49)   4895 non-null   int64  \n",
      " 3   Area              4895 non-null   object \n",
      " 4   Element Code      4895 non-null   int64  \n",
      " 5   Element           4895 non-null   object \n",
      " 6   Item Code (CPC)   4895 non-null   float64\n",
      " 7   Item              4895 non-null   object \n",
      " 8   Year Code         4895 non-null   int64  \n",
      " 9   Year              4895 non-null   int64  \n",
      " 10  Unit              1958 non-null   object \n",
      " 11  Value             4895 non-null   int64  \n",
      " 12  Flag              4895 non-null   object \n",
      " 13  Flag Description  4895 non-null   object \n",
      "dtypes: float64(1), int64(5), object(8)\n",
      "memory usage: 535.5+ KB\n"
     ]
    }
   ],
   "source": [
    "df.info()"
   ]
  },
  {
   "cell_type": "code",
   "execution_count": 9,
   "id": "c60e74aa-1901-46fa-81a3-e611514cd9b1",
   "metadata": {},
   "outputs": [
    {
     "data": {
      "text/html": [
       "<div>\n",
       "<style scoped>\n",
       "    .dataframe tbody tr th:only-of-type {\n",
       "        vertical-align: middle;\n",
       "    }\n",
       "\n",
       "    .dataframe tbody tr th {\n",
       "        vertical-align: top;\n",
       "    }\n",
       "\n",
       "    .dataframe thead th {\n",
       "        text-align: right;\n",
       "    }\n",
       "</style>\n",
       "<table border=\"1\" class=\"dataframe\">\n",
       "  <thead>\n",
       "    <tr style=\"text-align: right;\">\n",
       "      <th></th>\n",
       "      <th>Area Code (M49)</th>\n",
       "      <th>Element Code</th>\n",
       "      <th>Item Code (CPC)</th>\n",
       "      <th>Year Code</th>\n",
       "      <th>Year</th>\n",
       "      <th>Value</th>\n",
       "    </tr>\n",
       "  </thead>\n",
       "  <tbody>\n",
       "    <tr>\n",
       "      <th>count</th>\n",
       "      <td>4895.000000</td>\n",
       "      <td>4895.000000</td>\n",
       "      <td>4895.000000</td>\n",
       "      <td>4895.000000</td>\n",
       "      <td>4895.000000</td>\n",
       "      <td>4.895000e+03</td>\n",
       "    </tr>\n",
       "    <tr>\n",
       "      <th>mean</th>\n",
       "      <td>380.808989</td>\n",
       "      <td>334.000000</td>\n",
       "      <td>18308.146629</td>\n",
       "      <td>2017.000000</td>\n",
       "      <td>2017.000000</td>\n",
       "      <td>1.811506e+05</td>\n",
       "    </tr>\n",
       "    <tr>\n",
       "      <th>std</th>\n",
       "      <td>199.826997</td>\n",
       "      <td>195.573551</td>\n",
       "      <td>8642.617981</td>\n",
       "      <td>3.162601</td>\n",
       "      <td>3.162601</td>\n",
       "      <td>5.509007e+05</td>\n",
       "    </tr>\n",
       "    <tr>\n",
       "      <th>min</th>\n",
       "      <td>56.000000</td>\n",
       "      <td>94.000000</td>\n",
       "      <td>231.000000</td>\n",
       "      <td>2012.000000</td>\n",
       "      <td>2012.000000</td>\n",
       "      <td>5.000000e+00</td>\n",
       "    </tr>\n",
       "    <tr>\n",
       "      <th>25%</th>\n",
       "      <td>250.000000</td>\n",
       "      <td>95.000000</td>\n",
       "      <td>22130.020000</td>\n",
       "      <td>2014.000000</td>\n",
       "      <td>2014.000000</td>\n",
       "      <td>1.010000e+02</td>\n",
       "    </tr>\n",
       "    <tr>\n",
       "      <th>50%</th>\n",
       "      <td>372.000000</td>\n",
       "      <td>492.000000</td>\n",
       "      <td>22221.020000</td>\n",
       "      <td>2017.000000</td>\n",
       "      <td>2017.000000</td>\n",
       "      <td>1.340000e+02</td>\n",
       "    </tr>\n",
       "    <tr>\n",
       "      <th>75%</th>\n",
       "      <td>528.000000</td>\n",
       "      <td>494.000000</td>\n",
       "      <td>22251.010000</td>\n",
       "      <td>2020.000000</td>\n",
       "      <td>2020.000000</td>\n",
       "      <td>5.900000e+04</td>\n",
       "    </tr>\n",
       "    <tr>\n",
       "      <th>max</th>\n",
       "      <td>724.000000</td>\n",
       "      <td>495.000000</td>\n",
       "      <td>23993.030000</td>\n",
       "      <td>2022.000000</td>\n",
       "      <td>2022.000000</td>\n",
       "      <td>5.515968e+06</td>\n",
       "    </tr>\n",
       "  </tbody>\n",
       "</table>\n",
       "</div>"
      ],
      "text/plain": [
       "       Area Code (M49)  Element Code  Item Code (CPC)    Year Code  \\\n",
       "count      4895.000000   4895.000000      4895.000000  4895.000000   \n",
       "mean        380.808989    334.000000     18308.146629  2017.000000   \n",
       "std         199.826997    195.573551      8642.617981     3.162601   \n",
       "min          56.000000     94.000000       231.000000  2012.000000   \n",
       "25%         250.000000     95.000000     22130.020000  2014.000000   \n",
       "50%         372.000000    492.000000     22221.020000  2017.000000   \n",
       "75%         528.000000    494.000000     22251.010000  2020.000000   \n",
       "max         724.000000    495.000000     23993.030000  2022.000000   \n",
       "\n",
       "              Year         Value  \n",
       "count  4895.000000  4.895000e+03  \n",
       "mean   2017.000000  1.811506e+05  \n",
       "std       3.162601  5.509007e+05  \n",
       "min    2012.000000  5.000000e+00  \n",
       "25%    2014.000000  1.010000e+02  \n",
       "50%    2017.000000  1.340000e+02  \n",
       "75%    2020.000000  5.900000e+04  \n",
       "max    2022.000000  5.515968e+06  "
      ]
     },
     "execution_count": 9,
     "metadata": {},
     "output_type": "execute_result"
    }
   ],
   "source": [
    "df.describe()"
   ]
  },
  {
   "cell_type": "code",
   "execution_count": 10,
   "id": "e92362dd-a3c2-41d6-bfc8-fd1eea40cc8c",
   "metadata": {},
   "outputs": [
    {
     "data": {
      "text/plain": [
       "Domain Code            0\n",
       "Domain                 0\n",
       "Area Code (M49)        0\n",
       "Area                   0\n",
       "Element Code           0\n",
       "Element                0\n",
       "Item Code (CPC)        0\n",
       "Item                   0\n",
       "Year Code              0\n",
       "Year                   0\n",
       "Unit                2937\n",
       "Value                  0\n",
       "Flag                   0\n",
       "Flag Description       0\n",
       "dtype: int64"
      ]
     },
     "execution_count": 10,
     "metadata": {},
     "output_type": "execute_result"
    }
   ],
   "source": [
    "# checking for null values in the dataset\n",
    "df.isnull().sum()"
   ]
  },
  {
   "cell_type": "code",
   "execution_count": 11,
   "id": "da7d40fa-78c7-4712-8e0a-c62cd4116045",
   "metadata": {},
   "outputs": [
    {
     "data": {
      "text/plain": [
       "array(['Butter of cow milk', 'Cheese from whole cow milk', 'Eggs, dried',\n",
       "       'Eggs, liquid', 'Hen eggs in shell, fresh', 'Raw milk of cattle',\n",
       "       'Skim milk and whey powder', 'Skim milk, evaporated', 'Whey, dry',\n",
       "       'Yoghurt'], dtype=object)"
      ]
     },
     "execution_count": 11,
     "metadata": {},
     "output_type": "execute_result"
    }
   ],
   "source": [
    "df[\"Item\"].unique()"
   ]
  },
  {
   "cell_type": "code",
   "execution_count": 12,
   "id": "473fc333-9a57-4b7e-b1b8-69b40533690e",
   "metadata": {},
   "outputs": [
    {
     "data": {
      "text/plain": [
       "array(['Belgium', 'Denmark', 'France', 'Germany', 'Ireland', 'Italy',\n",
       "       'Netherlands (Kingdom of the)', 'Poland', 'Spain'], dtype=object)"
      ]
     },
     "execution_count": 12,
     "metadata": {},
     "output_type": "execute_result"
    }
   ],
   "source": [
    "df[\"Area\"].unique()"
   ]
  },
  {
   "cell_type": "code",
   "execution_count": 13,
   "id": "529e1c8d-524c-467b-83ad-efadac719aed",
   "metadata": {},
   "outputs": [
    {
     "name": "stdout",
     "output_type": "stream",
     "text": [
      "Filtered Data Overview:\n",
      "     Domain Code         Domain  Area Code (M49)    Area  Element Code  \\\n",
      "1045          TI  Trade Indices              250  France            94   \n",
      "1046          TI  Trade Indices              250  France            94   \n",
      "1047          TI  Trade Indices              250  France            94   \n",
      "1048          TI  Trade Indices              250  France            94   \n",
      "1049          TI  Trade Indices              250  France            94   \n",
      "\n",
      "                         Element  Item Code (CPC)                Item  \\\n",
      "1045  Export Value Base Quantity         22241.01  Butter of cow milk   \n",
      "1046  Export Value Base Quantity         22241.01  Butter of cow milk   \n",
      "1047  Export Value Base Quantity         22241.01  Butter of cow milk   \n",
      "1048  Export Value Base Quantity         22241.01  Butter of cow milk   \n",
      "1049  Export Value Base Quantity         22241.01  Butter of cow milk   \n",
      "\n",
      "      Year Code  Year      Unit   Value Flag Flag Description  \n",
      "1045       2012  2012  1000 USD  384972    E  Estimated value  \n",
      "1046       2013  2013  1000 USD  542791    E  Estimated value  \n",
      "1047       2014  2014  1000 USD  556211    E  Estimated value  \n",
      "1048       2015  2015  1000 USD  424331    E  Estimated value  \n",
      "1049       2016  2016  1000 USD  436268    E  Estimated value  \n"
     ]
    }
   ],
   "source": [
    "#Filter dataset for Ireland, France, and Germany, and specific products\n",
    "filtered_data = df[\n",
    "    (df['Area'].isin(['Ireland', 'France', 'Germany'])) & \n",
    "    (df['Item'].isin(['Butter of cow milk', 'Cheese from whole cow milk']))\n",
    "]\n",
    "print(\"Filtered Data Overview:\")\n",
    "print(filtered_data.head())\n"
   ]
  },
  {
   "cell_type": "code",
   "execution_count": 14,
   "id": "8c72203a-c510-4d3c-8127-57ddbeaccf33",
   "metadata": {},
   "outputs": [
    {
     "data": {
      "image/png": "[encoded data removed]",
      "text/plain": [
       "<Figure size 1200x600 with 1 Axes>"
      ]
     },
     "metadata": {},
     "output_type": "display_data"
    }
   ],
   "source": [
    "# Group data by country, year, and item for trend analysis\n",
    "grouped_data = filtered_data.groupby(['Area', 'Year', 'Item'])['Value'].sum().reset_index()\n",
    "\n",
    "# Visualize trends over time\n",
    "plt.figure(figsize=(12, 6))\n",
    "sns.lineplot(data=grouped_data, x='Year', y='Value', hue='Area', style='Item', markers=True)\n",
    "plt.title(\"Export Value Trends Over Time by Country and Product\")\n",
    "plt.ylabel(\"Export Value (1000 USD)\")\n",
    "plt.xlabel(\"Year\")\n",
    "plt.legend(title=\"Country and Product\")\n",
    "plt.grid(True)\n",
    "plt.show()"
   ]
  },
  {
   "cell_type": "markdown",
   "id": "6d3b7ecf-23d2-414d-b0cb-e88b5f8749e2",
   "metadata": {},
   "source": [
    "### Statistical Testing"
   ]
  },
  {
   "cell_type": "code",
   "execution_count": 16,
   "id": "0fdc550b-e419-408e-8310-15d5897e1f5a",
   "metadata": {},
   "outputs": [
    {
     "name": "stdout",
     "output_type": "stream",
     "text": [
      "T-Test Ireland vs France: t-stat=-3.36, p-value=0.00091\n",
      "T-Test Ireland vs Germany: t-stat=-3.83, p-value=0.00017\n",
      "ANOVA Test: F-stat=7.29, p-value=0.00080\n"
     ]
    }
   ],
   "source": [
    "# Separate data for statistical testing\n",
    "ireland_data = filtered_data[filtered_data['Area'] == 'Ireland']['Value']\n",
    "france_data = filtered_data[filtered_data['Area'] == 'France']['Value']\n",
    "germany_data = filtered_data[filtered_data['Area'] == 'Germany']['Value']\n",
    "\n",
    "# Perform T-Test (Ireland vs France, Ireland vs Germany)\n",
    "t_stat_france, p_value_france = ttest_ind(ireland_data, france_data)\n",
    "t_stat_germany, p_value_germany = ttest_ind(ireland_data, germany_data)\n",
    "\n",
    "# Perform ANOVA Test\n",
    "anova_stat, anova_p = f_oneway(ireland_data, france_data, germany_data)\n",
    "\n",
    "# Display results\n",
    "print(f\"T-Test Ireland vs France: t-stat={t_stat_france:.2f}, p-value={p_value_france:.5f}\")\n",
    "print(f\"T-Test Ireland vs Germany: t-stat={t_stat_germany:.2f}, p-value={p_value_germany:.5f}\")\n",
    "print(f\"ANOVA Test: F-stat={anova_stat:.2f}, p-value={anova_p:.5f}\")"
   ]
  },
  {
   "cell_type": "code",
   "execution_count": 17,
   "id": "88a61d1b-426e-47c0-b89a-fba25da3dfdc",
   "metadata": {},
   "outputs": [
    {
     "name": "stdout",
     "output_type": "stream",
     "text": [
      "Requirement already satisfied: streamlit in /opt/anaconda3/lib/python3.12/site-packages (1.32.0)\n",
      "Requirement already satisfied: plotly in /opt/anaconda3/lib/python3.12/site-packages (5.24.1)\n",
      "Requirement already satisfied: altair<6,>=4.0 in /opt/anaconda3/lib/python3.12/site-packages (from streamlit) (5.0.1)\n",
      "Requirement already satisfied: blinker<2,>=1.0.0 in /opt/anaconda3/lib/python3.12/site-packages (from streamlit) (1.6.2)\n",
      "Requirement already satisfied: cachetools<6,>=4.0 in /opt/anaconda3/lib/python3.12/site-packages (from streamlit) (5.3.3)\n",
      "Requirement already satisfied: click<9,>=7.0 in /opt/anaconda3/lib/python3.12/site-packages (from streamlit) (8.1.7)\n",
      "Requirement already satisfied: numpy<2,>=1.19.3 in /opt/anaconda3/lib/python3.12/site-packages (from streamlit) (1.26.4)\n",
      "Requirement already satisfied: packaging<24,>=16.8 in /opt/anaconda3/lib/python3.12/site-packages (from streamlit) (23.2)\n",
      "Requirement already satisfied: pandas<3,>=1.3.0 in /opt/anaconda3/lib/python3.12/site-packages (from streamlit) (2.2.2)\n",
      "Requirement already satisfied: pillow<11,>=7.1.0 in /opt/anaconda3/lib/python3.12/site-packages (from streamlit) (10.3.0)\n",
      "Requirement already satisfied: protobuf<5,>=3.20 in /opt/anaconda3/lib/python3.12/site-packages (from streamlit) (3.20.3)\n",
      "Requirement already satisfied: pyarrow>=7.0 in /opt/anaconda3/lib/python3.12/site-packages (from streamlit) (14.0.2)\n",
      "Requirement already satisfied: requests<3,>=2.27 in /opt/anaconda3/lib/python3.12/site-packages (from streamlit) (2.32.2)\n",
      "Requirement already satisfied: rich<14,>=10.14.0 in /opt/anaconda3/lib/python3.12/site-packages (from streamlit) (13.3.5)\n",
      "Requirement already satisfied: tenacity<9,>=8.1.0 in /opt/anaconda3/lib/python3.12/site-packages (from streamlit) (8.2.2)\n",
      "Requirement already satisfied: toml<2,>=0.10.1 in /opt/anaconda3/lib/python3.12/site-packages (from streamlit) (0.10.2)\n",
      "Requirement already satisfied: typing-extensions<5,>=4.3.0 in /opt/anaconda3/lib/python3.12/site-packages (from streamlit) (4.11.0)\n",
      "Requirement already satisfied: gitpython!=3.1.19,<4,>=3.0.7 in /opt/anaconda3/lib/python3.12/site-packages (from streamlit) (3.1.37)\n",
      "Requirement already satisfied: pydeck<1,>=0.8.0b4 in /opt/anaconda3/lib/python3.12/site-packages (from streamlit) (0.8.0)\n",
      "Requirement already satisfied: tornado<7,>=6.0.3 in /opt/anaconda3/lib/python3.12/site-packages (from streamlit) (6.4.1)\n",
      "Requirement already satisfied: jinja2 in /opt/anaconda3/lib/python3.12/site-packages (from altair<6,>=4.0->streamlit) (3.1.4)\n",
      "Requirement already satisfied: jsonschema>=3.0 in /opt/anaconda3/lib/python3.12/site-packages (from altair<6,>=4.0->streamlit) (4.19.2)\n",
      "Requirement already satisfied: toolz in /opt/anaconda3/lib/python3.12/site-packages (from altair<6,>=4.0->streamlit) (0.12.0)\n",
      "Requirement already satisfied: gitdb<5,>=4.0.1 in /opt/anaconda3/lib/python3.12/site-packages (from gitpython!=3.1.19,<4,>=3.0.7->streamlit) (4.0.7)\n",
      "Requirement already satisfied: python-dateutil>=2.8.2 in /opt/anaconda3/lib/python3.12/site-packages (from pandas<3,>=1.3.0->streamlit) (2.9.0.post0)\n",
      "Requirement already satisfied: pytz>=2020.1 in /opt/anaconda3/lib/python3.12/site-packages (from pandas<3,>=1.3.0->streamlit) (2024.1)\n",
      "Requirement already satisfied: tzdata>=2022.7 in /opt/anaconda3/lib/python3.12/site-packages (from pandas<3,>=1.3.0->streamlit) (2023.3)\n",
      "Requirement already satisfied: charset-normalizer<4,>=2 in /opt/anaconda3/lib/python3.12/site-packages (from requests<3,>=2.27->streamlit) (2.0.4)\n",
      "Requirement already satisfied: idna<4,>=2.5 in /opt/anaconda3/lib/python3.12/site-packages (from requests<3,>=2.27->streamlit) (3.7)\n",
      "Requirement already satisfied: urllib3<3,>=1.21.1 in /opt/anaconda3/lib/python3.12/site-packages (from requests<3,>=2.27->streamlit) (2.2.2)\n",
      "Requirement already satisfied: certifi>=2017.4.17 in /opt/anaconda3/lib/python3.12/site-packages (from requests<3,>=2.27->streamlit) (2024.8.30)\n",
      "Requirement already satisfied: markdown-it-py<3.0.0,>=2.2.0 in /opt/anaconda3/lib/python3.12/site-packages (from rich<14,>=10.14.0->streamlit) (2.2.0)\n",
      "Requirement already satisfied: pygments<3.0.0,>=2.13.0 in /opt/anaconda3/lib/python3.12/site-packages (from rich<14,>=10.14.0->streamlit) (2.15.1)\n",
      "Requirement already satisfied: smmap<5,>=3.0.1 in /opt/anaconda3/lib/python3.12/site-packages (from gitdb<5,>=4.0.1->gitpython!=3.1.19,<4,>=3.0.7->streamlit) (4.0.0)\n",
      "Requirement already satisfied: MarkupSafe>=2.0 in /opt/anaconda3/lib/python3.12/site-packages (from jinja2->altair<6,>=4.0->streamlit) (2.1.3)\n",
      "Requirement already satisfied: attrs>=22.2.0 in /opt/anaconda3/lib/python3.12/site-packages (from jsonschema>=3.0->altair<6,>=4.0->streamlit) (23.1.0)\n",
      "Requirement already satisfied: jsonschema-specifications>=2023.03.6 in /opt/anaconda3/lib/python3.12/site-packages (from jsonschema>=3.0->altair<6,>=4.0->streamlit) (2023.7.1)\n",
      "Requirement already satisfied: referencing>=0.28.4 in /opt/anaconda3/lib/python3.12/site-packages (from jsonschema>=3.0->altair<6,>=4.0->streamlit) (0.30.2)\n",
      "Requirement already satisfied: rpds-py>=0.7.1 in /opt/anaconda3/lib/python3.12/site-packages (from jsonschema>=3.0->altair<6,>=4.0->streamlit) (0.10.6)\n",
      "Requirement already satisfied: mdurl~=0.1 in /opt/anaconda3/lib/python3.12/site-packages (from markdown-it-py<3.0.0,>=2.2.0->rich<14,>=10.14.0->streamlit) (0.1.0)\n",
      "Requirement already satisfied: six>=1.5 in /opt/anaconda3/lib/python3.12/site-packages (from python-dateutil>=2.8.2->pandas<3,>=1.3.0->streamlit) (1.16.0)\n",
      "Note: you may need to restart the kernel to use updated packages.\n"
     ]
    }
   ],
   "source": [
    "pip install streamlit plotly"
   ]
  },
  {
   "cell_type": "code",
   "execution_count": 38,
   "id": "11581758-24a0-40af-a74f-b27369c9fcd7",
   "metadata": {},
   "outputs": [
    {
     "data": {
      "text/plain": [
       "DeltaGenerator()"
      ]
     },
     "execution_count": 38,
     "metadata": {},
     "output_type": "execute_result"
    }
   ],
   "source": [
    "import streamlit as st\n",
    "import plotly.express as px\n",
    "\n",
    "# Streamlit Dashboard\n",
    "st.title(\"Dairy Export Analysis Dashboard\")\n",
    "\n",
    "# Select product and country\n",
    "selected_product = st.selectbox(\"Select Product\", filtered_data['Item'].unique())\n",
    "selected_country = st.selectbox(\"Select Country\", ['Ireland', 'France', 'Germany'])\n",
    "\n",
    "# Filter data\n",
    "filtered_dashboard_data = filtered_data[\n",
    "    (filtered_data['Item'] == selected_product) &\n",
    "    (filtered_data['Area'] == selected_country)\n",
    "]\n",
    "\n",
    "# Visualize data\n",
    "fig = px.line(filtered_dashboard_data, x='Year', y='Value', title=f\"{selected_product} Export Trends in {selected_country}\")\n",
    "st.plotly_chart(fig)\n"
   ]
  },
  {
   "cell_type": "code",
   "execution_count": null,
   "id": "543e207e-35d1-4651-be38-c3ffa2286732",
   "metadata": {},
   "outputs": [],
   "source": []
  }
 ],
 "metadata": {
  "kernelspec": {
   "display_name": "Python 3 (ipykernel)",
   "language": "python",
   "name": "python3"
  },
  "language_info": {
   "codemirror_mode": {
    "name": "ipython",
    "version": 3
   },
   "file_extension": ".py",
   "mimetype": "text/x-python",
   "name": "python",
   "nbconvert_exporter": "python",
   "pygments_lexer": "ipython3",
   "version": "3.12.4"
  }
 },
 "nbformat": 4,
 "nbformat_minor": 5
}
